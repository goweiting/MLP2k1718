{
 "cells": [
  {
   "cell_type": "markdown",
   "metadata": {},
   "source": [
    "# Early Stopping Test\n",
    "\n",
    "[1] Prechelt, Lutz \"Early Stopping - but when?\", https://pdfs.semanticscholar.org/ea66/75caf8cdb9902e7889c0d75e8acc1c844b3d.pdf "
   ]
  },
  {
   "cell_type": "markdown",
   "metadata": {
    "ExecuteTime": {
     "end_time": "2017-11-12T11:12:05.367872Z",
     "start_time": "2017-11-12T11:12:05.345508Z"
    }
   },
   "source": [
    "### Setup"
   ]
  },
  {
   "cell_type": "code",
   "execution_count": 1,
   "metadata": {
    "ExecuteTime": {
     "end_time": "2017-11-21T00:14:10.885148Z",
     "start_time": "2017-11-21T00:14:10.853585Z"
    },
    "collapsed": true
   },
   "outputs": [],
   "source": [
    "%load_ext autoreload\n",
    "%autoreload 2\n",
    "from __future__ import print_function"
   ]
  },
  {
   "cell_type": "code",
   "execution_count": 2,
   "metadata": {
    "ExecuteTime": {
     "end_time": "2017-11-21T00:14:11.660749Z",
     "start_time": "2017-11-21T00:14:10.887566Z"
    }
   },
   "outputs": [
    {
     "name": "stdout",
     "output_type": "stream",
     "text": [
      "['inputs', 'targets']\n",
      "['inputs', 'targets']\n",
      "['inputs', 'targets']\n"
     ]
    }
   ],
   "source": [
    "import numpy as np\n",
    "import logging\n",
    "from mlp.data_providers import MNISTDataProvider, EMNISTDataProvider\n",
    "\n",
    "# Seed a random number generator\n",
    "seed = 10102016\n",
    "rng = np.random.RandomState(seed)\n",
    "batch_size = 100\n",
    "# Set up a logger object to print info about the training run to stdout\n",
    "logger = logging.getLogger()\n",
    "logger.setLevel(logging.INFO)\n",
    "logger.handlers = [logging.StreamHandler()]\n",
    "\n",
    "# Create data provider objects for the MNIST data set\n",
    "train_data = EMNISTDataProvider('train', batch_size=batch_size, rng=rng)\n",
    "valid_data = EMNISTDataProvider('valid', batch_size=batch_size, rng=rng)\n",
    "test_data = EMNISTDataProvider('test', batch_size=batch_size, rng=rng)"
   ]
  },
  {
   "cell_type": "code",
   "execution_count": 22,
   "metadata": {
    "ExecuteTime": {
     "end_time": "2017-11-21T00:47:35.116355Z",
     "start_time": "2017-11-21T00:47:35.077256Z"
    },
    "collapsed": true
   },
   "outputs": [],
   "source": [
    "from mlp.layers import AffineLayer, ReluLayer, ELULayer\n",
    "from mlp.errors import CrossEntropyLogSoftmaxError\n",
    "from mlp.models import MultipleLayerModel\n",
    "from mlp.initialisers import ConstantInit, GlorotUniformInit\n",
    "from mlp.optimisers import Optimiser, EarlyStoppingOptimiser\n",
    "from mlp.learning_rules import GradientDescentLearningRule\n",
    "\n",
    "#setup hyperparameters\n",
    "learning_rate = 0.01\n",
    "num_epochs = 60 # TODO: CHANGED HERE FOR TESTING ONLY!\n",
    "stats_interval = 1\n",
    "input_dim, output_dim, hidden_dim = 784, 47, 200"
   ]
  },
  {
   "cell_type": "code",
   "execution_count": 29,
   "metadata": {
    "ExecuteTime": {
     "end_time": "2017-11-21T01:05:50.605394Z",
     "start_time": "2017-11-21T01:05:50.500601Z"
    },
    "code_folding": [
     5
    ],
    "collapsed": true
   },
   "outputs": [],
   "source": [
    "# Create a single function to test a simple MLP with RELULayer:\n",
    "import matplotlib.pyplot as plt\n",
    "%matplotlib inline\n",
    "plt.style.use('ggplot')\n",
    "\n",
    "def train_model_and_plot_stats(model,\n",
    "                               error,\n",
    "                               learning_rule,\n",
    "                               train_data,\n",
    "                               valid_data,\n",
    "                               test_data,\n",
    "                               num_epochs,\n",
    "                               stats_interval,\n",
    "                               notebook=True):\n",
    "\n",
    "    # As well as monitoring the error over training also monitor classification\n",
    "    # accuracy i.e. proportion of most-probable predicted classes being equal to targets\n",
    "    data_monitors = {'acc': lambda y, t: (y.argmax(-1) == t.argmax(-1)).mean()}\n",
    "\n",
    "    # Use the created objects to initialise a new Optimiser instance.\n",
    "    optimiser = Optimiser(\n",
    "        model,\n",
    "        error,\n",
    "        learning_rule,\n",
    "        train_data,\n",
    "        valid_data,\n",
    "        test_data,\n",
    "        data_monitors,\n",
    "        notebook=notebook)\n",
    "\n",
    "    # Run the optimiser for 5 epochs (full passes through the training set)\n",
    "    # printing statistics every epoch.\n",
    "    stats, keys, run_time = optimiser.train(\n",
    "        num_epochs=num_epochs, stats_interval=stats_interval)\n",
    "\n",
    "    # Plot the change in the validation and training set error over training.\n",
    "    fig_1 = plt.figure(figsize=(8, 4))\n",
    "    ax_1 = fig_1.add_subplot(111)\n",
    "    for k in ['error(train)', 'error(valid)']:\n",
    "        ax_1.plot(\n",
    "            np.arange(1, stats.shape[0]) * stats_interval,\n",
    "            stats[1:, keys[k]],\n",
    "            label=k)\n",
    "    ax_1.legend(loc=0)\n",
    "    ax_1.set_xlabel('Epoch number')\n",
    "\n",
    "    # Plot the change in the validation and training set accuracy over training.\n",
    "    fig_2 = plt.figure(figsize=(8, 4))\n",
    "    ax_2 = fig_2.add_subplot(111)\n",
    "    for k in ['acc(train)', 'acc(valid)']:\n",
    "        ax_2.plot(\n",
    "            np.arange(1, stats.shape[0]) * stats_interval,\n",
    "            stats[1:, keys[k]],\n",
    "            label=k)\n",
    "    ax_2.legend(loc=0)\n",
    "    ax_2.set_xlabel('Epoch number')\n",
    "\n",
    "    return stats, keys, run_time, fig_1, ax_1, fig_2, ax_2"
   ]
  },
  {
   "cell_type": "code",
   "execution_count": 26,
   "metadata": {
    "ExecuteTime": {
     "end_time": "2017-11-21T00:51:58.901580Z",
     "start_time": "2017-11-21T00:51:58.864657Z"
    },
    "collapsed": true
   },
   "outputs": [],
   "source": [
    "func = ReluLayer()\n",
    "i=6"
   ]
  },
  {
   "cell_type": "code",
   "execution_count": 28,
   "metadata": {
    "ExecuteTime": {
     "end_time": "2017-11-21T01:04:06.093649Z",
     "start_time": "2017-11-21T00:58:00.493998Z"
    },
    "scrolled": false
   },
   "outputs": [
    {
     "name": "stdout",
     "output_type": "stream",
     "text": [
      "MultiLayerModel(\n",
      "    AffineLayer(input_dim=784, output_dim=200)\n",
      "    ReluLayer\n",
      "    AffineLayer(input_dim=200, output_dim=200)\n",
      "    ReluLayer\n",
      "    AffineLayer(input_dim=200, output_dim=200)\n",
      "    ReluLayer\n",
      "    AffineLayer(input_dim=200, output_dim=200)\n",
      "    ReluLayer\n",
      "    AffineLayer(input_dim=200, output_dim=200)\n",
      "    ReluLayer\n",
      "    AffineLayer(input_dim=200, output_dim=200)\n",
      "    ReluLayer\n",
      "    AffineLayer(input_dim=200, output_dim=200)\n",
      "    ReluLayer\n",
      "    AffineLayer(input_dim=200, output_dim=47)\n",
      ") 7 layers\n"
     ]
    },
    {
     "name": "stderr",
     "output_type": "stream",
     "text": [
      "Epoch 1: 5.7s to complete\n",
      "    error(train)=2.83e+00, acc(train)=2.04e-01, error(valid)=2.82e+00, acc(valid)=2.01e-01, error(test)=2.85e+00, acc(test)=1.99e-01\n",
      "Epoch 2: 5.5s to complete\n",
      "    error(train)=1.22e+00, acc(train)=6.41e-01, error(valid)=1.23e+00, acc(valid)=6.37e-01, error(test)=1.25e+00, acc(test)=6.27e-01\n",
      "Epoch 3: 5.6s to complete\n",
      "    error(train)=9.81e-01, acc(train)=6.96e-01, error(valid)=1.00e+00, acc(valid)=6.89e-01, error(test)=1.02e+00, acc(test)=6.81e-01\n",
      "Epoch 4: 5.7s to complete\n",
      "    error(train)=7.88e-01, acc(train)=7.55e-01, error(valid)=8.16e-01, acc(valid)=7.46e-01, error(test)=8.41e-01, acc(test)=7.35e-01\n",
      "Epoch 5: 5.7s to complete\n",
      "    error(train)=7.21e-01, acc(train)=7.73e-01, error(valid)=7.63e-01, acc(valid)=7.65e-01, error(test)=7.87e-01, acc(test)=7.53e-01\n",
      "Epoch 6: 5.7s to complete\n",
      "    error(train)=6.44e-01, acc(train)=7.96e-01, error(valid)=6.97e-01, acc(valid)=7.81e-01, error(test)=7.19e-01, acc(test)=7.69e-01\n",
      "Epoch 7: 5.7s to complete\n",
      "    error(train)=5.97e-01, acc(train)=8.07e-01, error(valid)=6.62e-01, acc(valid)=7.91e-01, error(test)=6.83e-01, acc(test)=7.81e-01\n",
      "Epoch 8: 5.8s to complete\n",
      "    error(train)=5.89e-01, acc(train)=8.03e-01, error(valid)=6.58e-01, acc(valid)=7.84e-01, error(test)=6.77e-01, acc(test)=7.80e-01\n",
      "Epoch 9: 5.8s to complete\n",
      "    error(train)=5.47e-01, acc(train)=8.19e-01, error(valid)=6.21e-01, acc(valid)=7.99e-01, error(test)=6.44e-01, acc(test)=7.91e-01\n",
      "Epoch 10: 5.8s to complete\n",
      "    error(train)=5.15e-01, acc(train)=8.32e-01, error(valid)=5.98e-01, acc(valid)=8.10e-01, error(test)=6.19e-01, acc(test)=8.00e-01\n",
      "Epoch 11: 5.8s to complete\n",
      "    error(train)=4.90e-01, acc(train)=8.36e-01, error(valid)=5.81e-01, acc(valid)=8.13e-01, error(test)=6.08e-01, acc(test)=8.02e-01\n",
      "Epoch 12: 5.8s to complete\n",
      "    error(train)=4.81e-01, acc(train)=8.37e-01, error(valid)=5.88e-01, acc(valid)=8.07e-01, error(test)=6.02e-01, acc(test)=8.02e-01\n",
      "Epoch 13: 5.8s to complete\n",
      "    error(train)=4.62e-01, acc(train)=8.44e-01, error(valid)=5.73e-01, acc(valid)=8.14e-01, error(test)=5.90e-01, acc(test)=8.09e-01\n",
      "Epoch 14: 5.8s to complete\n",
      "    error(train)=4.43e-01, acc(train)=8.51e-01, error(valid)=5.64e-01, acc(valid)=8.17e-01, error(test)=5.84e-01, acc(test)=8.14e-01\n",
      "Epoch 15: 5.8s to complete\n",
      "    error(train)=4.38e-01, acc(train)=8.52e-01, error(valid)=5.66e-01, acc(valid)=8.18e-01, error(test)=5.82e-01, acc(test)=8.13e-01\n",
      "Epoch 16: 5.8s to complete\n",
      "    error(train)=4.15e-01, acc(train)=8.56e-01, error(valid)=5.48e-01, acc(valid)=8.21e-01, error(test)=5.61e-01, acc(test)=8.17e-01\n",
      "Epoch 17: 5.8s to complete\n",
      "    error(train)=4.03e-01, acc(train)=8.62e-01, error(valid)=5.43e-01, acc(valid)=8.24e-01, error(test)=5.54e-01, acc(test)=8.17e-01\n",
      "Epoch 18: 5.8s to complete\n",
      "    error(train)=3.87e-01, acc(train)=8.66e-01, error(valid)=5.37e-01, acc(valid)=8.24e-01, error(test)=5.54e-01, acc(test)=8.19e-01\n",
      "Epoch 19: 5.8s to complete\n",
      "    error(train)=3.89e-01, acc(train)=8.65e-01, error(valid)=5.43e-01, acc(valid)=8.20e-01, error(test)=5.61e-01, acc(test)=8.18e-01\n",
      "Epoch 20: 5.8s to complete\n",
      "    error(train)=3.71e-01, acc(train)=8.68e-01, error(valid)=5.34e-01, acc(valid)=8.24e-01, error(test)=5.50e-01, acc(test)=8.18e-01\n",
      "Epoch 21: 5.8s to complete\n",
      "    error(train)=3.73e-01, acc(train)=8.71e-01, error(valid)=5.45e-01, acc(valid)=8.25e-01, error(test)=5.62e-01, acc(test)=8.19e-01\n",
      "UP1: error(valid) at 22 = 5.61e-01 > at 17 = 5.43e-01\n",
      "Epoch 22: 5.8s to complete\n",
      "    error(train)=3.74e-01, acc(train)=8.66e-01, error(valid)=5.61e-01, acc(valid)=8.20e-01, error(test)=5.79e-01, acc(test)=8.14e-01\n",
      "Epoch 23: 5.8s to complete\n",
      "    error(train)=3.50e-01, acc(train)=8.75e-01, error(valid)=5.36e-01, acc(valid)=8.25e-01, error(test)=5.57e-01, acc(test)=8.17e-01\n",
      "UP1: error(valid) at 24 = 5.57e-01 > at 19 = 5.43e-01\n",
      "Epoch 24: 5.8s to complete\n",
      "    error(train)=3.56e-01, acc(train)=8.69e-01, error(valid)=5.57e-01, acc(valid)=8.20e-01, error(test)=5.74e-01, acc(test)=8.13e-01\n",
      "UP1: error(valid) at 25 = 5.43e-01 > at 20 = 5.34e-01\n",
      "Epoch 25: 5.8s to complete\n",
      "    error(train)=3.29e-01, acc(train)=8.81e-01, error(valid)=5.43e-01, acc(valid)=8.28e-01, error(test)=5.54e-01, acc(test)=8.26e-01\n",
      "Epoch 26: 5.9s to complete\n",
      "    error(train)=3.23e-01, acc(train)=8.84e-01, error(valid)=5.33e-01, acc(valid)=8.30e-01, error(test)=5.49e-01, acc(test)=8.25e-01\n",
      "Epoch 27: 5.8s to complete\n",
      "    error(train)=3.18e-01, acc(train)=8.85e-01, error(valid)=5.37e-01, acc(valid)=8.30e-01, error(test)=5.48e-01, acc(test)=8.27e-01\n",
      "UP1: error(valid) at 28 = 5.47e-01 > at 23 = 5.36e-01\n",
      "Epoch 28: 5.8s to complete\n",
      "    error(train)=3.22e-01, acc(train)=8.82e-01, error(valid)=5.47e-01, acc(valid)=8.28e-01, error(test)=5.65e-01, acc(test)=8.20e-01\n",
      "Epoch 29: 5.8s to complete\n",
      "    error(train)=3.15e-01, acc(train)=8.84e-01, error(valid)=5.53e-01, acc(valid)=8.28e-01, error(test)=5.76e-01, acc(test)=8.20e-01\n",
      "Epoch 30: 5.8s to complete\n",
      "    error(train)=3.00e-01, acc(train)=8.91e-01, error(valid)=5.39e-01, acc(valid)=8.27e-01, error(test)=5.60e-01, acc(test)=8.22e-01\n",
      "UP1: error(valid) at 31 = 5.48e-01 > at 26 = 5.33e-01\n",
      "Epoch 31: 5.9s to complete\n",
      "    error(train)=3.02e-01, acc(train)=8.89e-01, error(valid)=5.48e-01, acc(valid)=8.29e-01, error(test)=5.71e-01, acc(test)=8.21e-01\n",
      "UP1: error(valid) at 32 = 5.61e-01 > at 27 = 5.37e-01\n",
      "Epoch 32: 5.8s to complete\n",
      "    error(train)=3.01e-01, acc(train)=8.88e-01, error(valid)=5.61e-01, acc(valid)=8.28e-01, error(test)=5.77e-01, acc(test)=8.20e-01\n",
      "UP1: error(valid) at 33 = 5.67e-01 > at 28 = 5.47e-01\n",
      "UP2: error(valid) at 28 = 5.47e-01 > at 23 = 5.36e-01\n",
      "Epoch 33: 5.9s to complete\n",
      "    error(train)=3.04e-01, acc(train)=8.89e-01, error(valid)=5.67e-01, acc(valid)=8.24e-01, error(test)=5.95e-01, acc(test)=8.18e-01\n",
      "UP1: error(valid) at 34 = 5.61e-01 > at 29 = 5.53e-01\n",
      "Epoch 34: 5.9s to complete\n",
      "    error(train)=2.90e-01, acc(train)=8.89e-01, error(valid)=5.61e-01, acc(valid)=8.27e-01, error(test)=5.83e-01, acc(test)=8.20e-01\n",
      "UP1: error(valid) at 35 = 5.73e-01 > at 30 = 5.39e-01\n",
      "Epoch 35: 5.9s to complete\n",
      "    error(train)=2.96e-01, acc(train)=8.90e-01, error(valid)=5.73e-01, acc(valid)=8.23e-01, error(test)=6.02e-01, acc(test)=8.19e-01\n",
      "UP1: error(valid) at 36 = 5.66e-01 > at 31 = 5.48e-01\n",
      "UP2: error(valid) at 31 = 5.48e-01 > at 26 = 5.33e-01\n",
      "Epoch 36: 5.9s to complete\n",
      "    error(train)=2.82e-01, acc(train)=8.94e-01, error(valid)=5.66e-01, acc(valid)=8.26e-01, error(test)=5.84e-01, acc(test)=8.19e-01\n",
      "UP1: error(valid) at 37 = 5.66e-01 > at 32 = 5.61e-01\n",
      "UP2: error(valid) at 32 = 5.61e-01 > at 27 = 5.37e-01\n",
      "Epoch 37: 5.9s to complete\n",
      "    error(train)=2.58e-01, acc(train)=9.04e-01, error(valid)=5.66e-01, acc(valid)=8.33e-01, error(test)=5.86e-01, acc(test)=8.26e-01\n",
      "Epoch 38: 5.9s to complete\n",
      "    error(train)=2.68e-01, acc(train)=9.00e-01, error(valid)=5.67e-01, acc(valid)=8.29e-01, error(test)=5.89e-01, acc(test)=8.22e-01\n",
      "UP1: error(valid) at 39 = 6.14e-01 > at 34 = 5.61e-01\n",
      "UP2: error(valid) at 34 = 5.61e-01 > at 29 = 5.53e-01\n",
      "Epoch 39: 5.9s to complete\n",
      "    error(train)=2.93e-01, acc(train)=8.84e-01, error(valid)=6.14e-01, acc(valid)=8.15e-01, error(test)=6.48e-01, acc(test)=8.08e-01\n",
      "UP1: error(valid) at 40 = 5.87e-01 > at 35 = 5.73e-01\n",
      "UP2: error(valid) at 35 = 5.73e-01 > at 30 = 5.39e-01\n",
      "Epoch 40: 5.9s to complete\n",
      "    error(train)=2.64e-01, acc(train)=9.01e-01, error(valid)=5.87e-01, acc(valid)=8.29e-01, error(test)=6.03e-01, acc(test)=8.23e-01\n",
      "Epoch 41: 5.9s to complete\n",
      "    error(train)=2.37e-01, acc(train)=9.11e-01, error(valid)=5.59e-01, acc(valid)=8.33e-01, error(test)=5.95e-01, acc(test)=8.27e-01\n",
      "UP1: error(valid) at 42 = 5.75e-01 > at 37 = 5.66e-01\n",
      "UP2: error(valid) at 37 = 5.66e-01 > at 32 = 5.61e-01\n",
      "UP3: error(valid) at 32 = 5.61e-01 > at 27 = 5.37e-01\n",
      "EARLY STOPPING\n",
      "Epoch 42: 5.9s to complete\n",
      "    error(train)=2.42e-01, acc(train)=9.09e-01, error(valid)=5.75e-01, acc(valid)=8.29e-01, error(test)=6.00e-01, acc(test)=8.23e-01\n"
     ]
    },
    {
     "data": {
      "image/png": "[encoded data removed]",
      "text/plain": [
       "<matplotlib.figure.Figure at 0x7f2d2fc476d8>"
      ]
     },
     "metadata": {},
     "output_type": "display_data"
    },
    {
     "data": {
      "image/png": "[encoded data removed]",
      "text/plain": [
       "<matplotlib.figure.Figure at 0x7f2d2fadb320>"
      ]
     },
     "metadata": {},
     "output_type": "display_data"
    }
   ],
   "source": [
    "train_data.reset()\n",
    "test_data.reset()\n",
    "valid_data.reset()\n",
    "\n",
    "# Initialise the weights and biases:\n",
    "weights_init = GlorotUniformInit(rng=rng)\n",
    "biases_init = ConstantInit(0.)\n",
    "\n",
    "input_layer = [\n",
    "    AffineLayer(input_dim, hidden_dim, weights_init, biases_init)\n",
    "]\n",
    "output_layer = [\n",
    "    func,\n",
    "    AffineLayer(hidden_dim, output_dim, weights_init, biases_init)\n",
    "]\n",
    "each_hidden_layer = [\n",
    "    func,\n",
    "    AffineLayer(hidden_dim, hidden_dim, weights_init, biases_init)\n",
    "]\n",
    "\n",
    "# create the MLP:\n",
    "model = MultipleLayerModel(input_layer + each_hidden_layer * i +\n",
    "                           output_layer)\n",
    "print(model, '{} layers'.format(i + 1))\n",
    "\n",
    "error = CrossEntropyLogSoftmaxError()\n",
    "learning_rule = GradientDescentLearningRule(learning_rate=learning_rate)\n",
    "\n",
    "_ = train_model_and_plot_stats(\n",
    "    model,\n",
    "    error,\n",
    "    learning_rule,\n",
    "    train_data,\n",
    "    valid_data,\n",
    "    test_data,\n",
    "    num_epochs,\n",
    "    stats_interval,\n",
    "    notebook=False)"
   ]
  },
  {
   "cell_type": "code",
   "execution_count": 30,
   "metadata": {
    "ExecuteTime": {
     "end_time": "2017-11-21T01:14:36.916466Z",
     "start_time": "2017-11-21T01:05:54.067361Z"
    },
    "scrolled": false
   },
   "outputs": [
    {
     "name": "stdout",
     "output_type": "stream",
     "text": [
      "MultiLayerModel(\n",
      "    AffineLayer(input_dim=784, output_dim=200)\n",
      "    ReluLayer\n",
      "    AffineLayer(input_dim=200, output_dim=200)\n",
      "    ReluLayer\n",
      "    AffineLayer(input_dim=200, output_dim=200)\n",
      "    ReluLayer\n",
      "    AffineLayer(input_dim=200, output_dim=200)\n",
      "    ReluLayer\n",
      "    AffineLayer(input_dim=200, output_dim=200)\n",
      "    ReluLayer\n",
      "    AffineLayer(input_dim=200, output_dim=200)\n",
      "    ReluLayer\n",
      "    AffineLayer(input_dim=200, output_dim=200)\n",
      "    ReluLayer\n",
      "    AffineLayer(input_dim=200, output_dim=47)\n",
      ") 7 layers\n"
     ]
    },
    {
     "name": "stderr",
     "output_type": "stream",
     "text": [
      "Epoch 1: 5.8s to complete\n",
      "    error(train)=3.55e+00, acc(train)=1.22e-01, error(valid)=3.55e+00, acc(valid)=1.16e-01, error(test)=3.56e+00, acc(test)=1.18e-01\n",
      "Epoch 2: 5.5s to complete\n",
      "    error(train)=1.25e+00, acc(train)=6.37e-01, error(valid)=1.26e+00, acc(valid)=6.36e-01, error(test)=1.28e+00, acc(test)=6.29e-01\n",
      "Epoch 3: 5.6s to complete\n",
      "    error(train)=9.30e-01, acc(train)=7.19e-01, error(valid)=9.47e-01, acc(valid)=7.12e-01, error(test)=9.75e-01, acc(test)=7.05e-01\n",
      "Epoch 4: 5.7s to complete\n",
      "    error(train)=7.77e-01, acc(train)=7.61e-01, error(valid)=8.08e-01, acc(valid)=7.52e-01, error(test)=8.32e-01, acc(test)=7.44e-01\n",
      "Epoch 5: 5.7s to complete\n",
      "    error(train)=7.09e-01, acc(train)=7.75e-01, error(valid)=7.49e-01, acc(valid)=7.62e-01, error(test)=7.77e-01, acc(test)=7.56e-01\n",
      "Epoch 6: 5.7s to complete\n",
      "    error(train)=6.40e-01, acc(train)=7.96e-01, error(valid)=6.88e-01, acc(valid)=7.81e-01, error(test)=7.22e-01, acc(test)=7.71e-01\n",
      "Epoch 7: 5.8s to complete\n",
      "    error(train)=5.88e-01, acc(train)=8.12e-01, error(valid)=6.46e-01, acc(valid)=7.93e-01, error(test)=6.80e-01, acc(test)=7.85e-01\n",
      "Epoch 8: 5.8s to complete\n",
      "    error(train)=5.61e-01, acc(train)=8.16e-01, error(valid)=6.22e-01, acc(valid)=7.97e-01, error(test)=6.60e-01, acc(test)=7.90e-01\n",
      "Epoch 9: 5.8s to complete\n",
      "    error(train)=5.40e-01, acc(train)=8.20e-01, error(valid)=6.11e-01, acc(valid)=7.96e-01, error(test)=6.55e-01, acc(test)=7.91e-01\n",
      "Epoch 10: 5.8s to complete\n",
      "    error(train)=5.03e-01, acc(train)=8.34e-01, error(valid)=5.80e-01, acc(valid)=8.13e-01, error(test)=6.16e-01, acc(test)=8.05e-01\n",
      "Epoch 11: 5.8s to complete\n",
      "    error(train)=4.83e-01, acc(train)=8.37e-01, error(valid)=5.69e-01, acc(valid)=8.12e-01, error(test)=6.08e-01, acc(test)=8.00e-01\n",
      "Epoch 12: 5.8s to complete\n",
      "    error(train)=4.60e-01, acc(train)=8.47e-01, error(valid)=5.54e-01, acc(valid)=8.18e-01, error(test)=5.96e-01, acc(test)=8.05e-01\n",
      "Epoch 13: 5.8s to complete\n",
      "    error(train)=4.45e-01, acc(train)=8.48e-01, error(valid)=5.47e-01, acc(valid)=8.18e-01, error(test)=5.88e-01, acc(test)=8.08e-01\n",
      "Epoch 14: 5.8s to complete\n",
      "    error(train)=4.49e-01, acc(train)=8.47e-01, error(valid)=5.55e-01, acc(valid)=8.20e-01, error(test)=5.98e-01, acc(test)=8.08e-01\n",
      "Epoch 15: 5.8s to complete\n",
      "    error(train)=4.23e-01, acc(train)=8.53e-01, error(valid)=5.39e-01, acc(valid)=8.20e-01, error(test)=5.83e-01, acc(test)=8.11e-01\n",
      "Epoch 16: 5.8s to complete\n",
      "    error(train)=4.01e-01, acc(train)=8.61e-01, error(valid)=5.25e-01, acc(valid)=8.27e-01, error(test)=5.62e-01, acc(test)=8.18e-01\n",
      "Epoch 17: 5.8s to complete\n",
      "    error(train)=3.91e-01, acc(train)=8.65e-01, error(valid)=5.22e-01, acc(valid)=8.26e-01, error(test)=5.62e-01, acc(test)=8.21e-01\n",
      "Epoch 18: 5.8s to complete\n",
      "    error(train)=3.87e-01, acc(train)=8.66e-01, error(valid)=5.32e-01, acc(valid)=8.28e-01, error(test)=5.70e-01, acc(test)=8.17e-01\n",
      "Epoch 19: 5.8s to complete\n",
      "    error(train)=3.71e-01, acc(train)=8.71e-01, error(valid)=5.19e-01, acc(valid)=8.31e-01, error(test)=5.60e-01, acc(test)=8.21e-01\n",
      "Epoch 20: 5.8s to complete\n",
      "    error(train)=3.74e-01, acc(train)=8.70e-01, error(valid)=5.30e-01, acc(valid)=8.29e-01, error(test)=5.76e-01, acc(test)=8.21e-01\n",
      "Epoch 21: 5.8s to complete\n",
      "    error(train)=3.78e-01, acc(train)=8.65e-01, error(valid)=5.39e-01, acc(valid)=8.22e-01, error(test)=5.82e-01, acc(test)=8.12e-01\n",
      "Epoch 22: 5.8s to complete\n",
      "    error(train)=3.46e-01, acc(train)=8.78e-01, error(valid)=5.11e-01, acc(valid)=8.32e-01, error(test)=5.57e-01, acc(test)=8.21e-01\n",
      "Epoch 23: 5.8s to complete\n",
      "    error(train)=3.41e-01, acc(train)=8.79e-01, error(valid)=5.12e-01, acc(valid)=8.30e-01, error(test)=5.59e-01, acc(test)=8.20e-01\n",
      "Epoch 24: 5.8s to complete\n",
      "    error(train)=3.31e-01, acc(train)=8.81e-01, error(valid)=5.17e-01, acc(valid)=8.34e-01, error(test)=5.63e-01, acc(test)=8.23e-01\n",
      "Epoch 25: 5.8s to complete\n",
      "    error(train)=3.16e-01, acc(train)=8.87e-01, error(valid)=5.11e-01, acc(valid)=8.35e-01, error(test)=5.50e-01, acc(test)=8.27e-01\n",
      "Epoch 26: 5.8s to complete\n",
      "    error(train)=3.88e-01, acc(train)=8.59e-01, error(valid)=5.83e-01, acc(valid)=8.13e-01, error(test)=6.27e-01, acc(test)=8.02e-01\n",
      "Epoch 27: 5.8s to complete\n",
      "    error(train)=3.07e-01, acc(train)=8.89e-01, error(valid)=5.14e-01, acc(valid)=8.32e-01, error(test)=5.63e-01, acc(test)=8.21e-01\n",
      "Epoch 28: 5.8s to complete\n",
      "    error(train)=3.06e-01, acc(train)=8.90e-01, error(valid)=5.17e-01, acc(valid)=8.34e-01, error(test)=5.78e-01, acc(test)=8.19e-01\n",
      "Epoch 29: 5.9s to complete\n",
      "    error(train)=3.11e-01, acc(train)=8.85e-01, error(valid)=5.36e-01, acc(valid)=8.28e-01, error(test)=5.83e-01, acc(test)=8.18e-01\n",
      "Epoch 30: 5.8s to complete\n",
      "    error(train)=2.99e-01, acc(train)=8.90e-01, error(valid)=5.28e-01, acc(valid)=8.31e-01, error(test)=5.67e-01, acc(test)=8.23e-01\n",
      "Epoch 31: 5.8s to complete\n",
      "    error(train)=2.80e-01, acc(train)=8.98e-01, error(valid)=5.22e-01, acc(valid)=8.34e-01, error(test)=5.65e-01, acc(test)=8.27e-01\n",
      "Epoch 32: 5.8s to complete\n",
      "    error(train)=2.90e-01, acc(train)=8.93e-01, error(valid)=5.41e-01, acc(valid)=8.31e-01, error(test)=5.89e-01, acc(test)=8.23e-01\n",
      "Epoch 33: 5.8s to complete\n",
      "    error(train)=2.91e-01, acc(train)=8.94e-01, error(valid)=5.48e-01, acc(valid)=8.28e-01, error(test)=6.07e-01, acc(test)=8.20e-01\n",
      "Epoch 34: 5.8s to complete\n",
      "    error(train)=2.81e-01, acc(train)=8.97e-01, error(valid)=5.44e-01, acc(valid)=8.31e-01, error(test)=5.94e-01, acc(test)=8.21e-01\n",
      "Epoch 35: 5.8s to complete\n",
      "    error(train)=2.80e-01, acc(train)=8.93e-01, error(valid)=5.45e-01, acc(valid)=8.24e-01, error(test)=5.92e-01, acc(test)=8.19e-01\n",
      "Epoch 36: 5.8s to complete\n",
      "    error(train)=2.59e-01, acc(train)=9.04e-01, error(valid)=5.43e-01, acc(valid)=8.36e-01, error(test)=5.85e-01, acc(test)=8.26e-01\n",
      "Epoch 37: 5.8s to complete\n",
      "    error(train)=2.58e-01, acc(train)=9.01e-01, error(valid)=5.52e-01, acc(valid)=8.30e-01, error(test)=6.10e-01, acc(test)=8.20e-01\n",
      "Epoch 38: 5.8s to complete\n",
      "    error(train)=2.58e-01, acc(train)=9.03e-01, error(valid)=5.52e-01, acc(valid)=8.30e-01, error(test)=6.08e-01, acc(test)=8.19e-01\n",
      "Epoch 39: 5.8s to complete\n",
      "    error(train)=2.48e-01, acc(train)=9.06e-01, error(valid)=5.64e-01, acc(valid)=8.34e-01, error(test)=6.17e-01, acc(test)=8.23e-01\n",
      "Epoch 40: 5.9s to complete\n",
      "    error(train)=2.46e-01, acc(train)=9.07e-01, error(valid)=5.61e-01, acc(valid)=8.32e-01, error(test)=6.22e-01, acc(test)=8.21e-01\n",
      "Epoch 41: 5.8s to complete\n",
      "    error(train)=2.31e-01, acc(train)=9.15e-01, error(valid)=5.43e-01, acc(valid)=8.37e-01, error(test)=5.94e-01, acc(test)=8.23e-01\n",
      "Epoch 42: 5.8s to complete\n",
      "    error(train)=2.35e-01, acc(train)=9.10e-01, error(valid)=5.58e-01, acc(valid)=8.29e-01, error(test)=6.10e-01, acc(test)=8.21e-01\n",
      "Epoch 43: 5.8s to complete\n",
      "    error(train)=2.35e-01, acc(train)=9.11e-01, error(valid)=5.83e-01, acc(valid)=8.33e-01, error(test)=6.32e-01, acc(test)=8.22e-01\n",
      "Epoch 44: 5.8s to complete\n",
      "    error(train)=2.29e-01, acc(train)=9.13e-01, error(valid)=5.77e-01, acc(valid)=8.34e-01, error(test)=6.27e-01, acc(test)=8.23e-01\n",
      "Epoch 45: 5.8s to complete\n",
      "    error(train)=2.19e-01, acc(train)=9.16e-01, error(valid)=5.75e-01, acc(valid)=8.35e-01, error(test)=6.35e-01, acc(test)=8.22e-01\n",
      "Epoch 46: 5.8s to complete\n",
      "    error(train)=2.11e-01, acc(train)=9.20e-01, error(valid)=5.79e-01, acc(valid)=8.35e-01, error(test)=6.33e-01, acc(test)=8.25e-01\n",
      "Epoch 47: 5.8s to complete\n",
      "    error(train)=2.19e-01, acc(train)=9.17e-01, error(valid)=5.91e-01, acc(valid)=8.31e-01, error(test)=6.46e-01, acc(test)=8.20e-01\n",
      "Epoch 48: 5.8s to complete\n",
      "    error(train)=2.09e-01, acc(train)=9.21e-01, error(valid)=5.92e-01, acc(valid)=8.32e-01, error(test)=6.51e-01, acc(test)=8.23e-01\n",
      "Epoch 49: 5.8s to complete\n",
      "    error(train)=2.13e-01, acc(train)=9.18e-01, error(valid)=6.05e-01, acc(valid)=8.29e-01, error(test)=6.71e-01, acc(test)=8.16e-01\n",
      "Epoch 50: 5.9s to complete\n",
      "    error(train)=2.10e-01, acc(train)=9.20e-01, error(valid)=6.10e-01, acc(valid)=8.32e-01, error(test)=6.55e-01, acc(test)=8.19e-01\n",
      "Epoch 51: 5.9s to complete\n",
      "    error(train)=2.03e-01, acc(train)=9.22e-01, error(valid)=6.25e-01, acc(valid)=8.32e-01, error(test)=6.87e-01, acc(test)=8.19e-01\n",
      "Epoch 52: 5.9s to complete\n",
      "    error(train)=2.08e-01, acc(train)=9.19e-01, error(valid)=6.33e-01, acc(valid)=8.26e-01, error(test)=6.86e-01, acc(test)=8.18e-01\n"
     ]
    },
    {
     "name": "stderr",
     "output_type": "stream",
     "text": [
      "Epoch 53: 5.9s to complete\n",
      "    error(train)=2.02e-01, acc(train)=9.21e-01, error(valid)=6.34e-01, acc(valid)=8.28e-01, error(test)=6.91e-01, acc(test)=8.22e-01\n",
      "Epoch 54: 5.9s to complete\n",
      "    error(train)=1.89e-01, acc(train)=9.26e-01, error(valid)=6.37e-01, acc(valid)=8.29e-01, error(test)=6.87e-01, acc(test)=8.21e-01\n",
      "Epoch 55: 5.9s to complete\n",
      "    error(train)=1.92e-01, acc(train)=9.25e-01, error(valid)=6.35e-01, acc(valid)=8.30e-01, error(test)=6.96e-01, acc(test)=8.19e-01\n",
      "Epoch 56: 5.9s to complete\n",
      "    error(train)=1.79e-01, acc(train)=9.31e-01, error(valid)=6.32e-01, acc(valid)=8.31e-01, error(test)=6.96e-01, acc(test)=8.25e-01\n",
      "Epoch 57: 5.9s to complete\n",
      "    error(train)=1.92e-01, acc(train)=9.25e-01, error(valid)=6.59e-01, acc(valid)=8.30e-01, error(test)=7.19e-01, acc(test)=8.17e-01\n",
      "Epoch 58: 5.9s to complete\n",
      "    error(train)=1.90e-01, acc(train)=9.25e-01, error(valid)=6.59e-01, acc(valid)=8.27e-01, error(test)=7.22e-01, acc(test)=8.16e-01\n",
      "Epoch 59: 5.9s to complete\n",
      "    error(train)=1.91e-01, acc(train)=9.23e-01, error(valid)=6.67e-01, acc(valid)=8.26e-01, error(test)=7.29e-01, acc(test)=8.15e-01\n",
      "Epoch 60: 5.9s to complete\n",
      "    error(train)=1.95e-01, acc(train)=9.23e-01, error(valid)=6.96e-01, acc(valid)=8.23e-01, error(test)=7.60e-01, acc(test)=8.12e-01\n"
     ]
    },
    {
     "ename": "NameError",
     "evalue": "name 'expt' is not defined",
     "output_type": "error",
     "traceback": [
      "\u001b[0;31m---------------------------------------------------------------------------\u001b[0m",
      "\u001b[0;31mNameError\u001b[0m                                 Traceback (most recent call last)",
      "\u001b[0;32m<ipython-input-30-98a2ab2ffeaa>\u001b[0m in \u001b[0;36m<module>\u001b[0;34m()\u001b[0m\n\u001b[1;32m     36\u001b[0m     \u001b[0mnum_epochs\u001b[0m\u001b[0;34m,\u001b[0m\u001b[0;34m\u001b[0m\u001b[0m\n\u001b[1;32m     37\u001b[0m     \u001b[0mstats_interval\u001b[0m\u001b[0;34m,\u001b[0m\u001b[0;34m\u001b[0m\u001b[0m\n\u001b[0;32m---> 38\u001b[0;31m     notebook=False)\n\u001b[0m",
      "\u001b[0;31mNameError\u001b[0m: name 'expt' is not defined"
     ]
    },
    {
     "data": {
      "image/png": "[encoded data removed]",
      "text/plain": [
       "<matplotlib.figure.Figure at 0x7f2d2fbf07f0>"
      ]
     },
     "metadata": {},
     "output_type": "display_data"
    },
    {
     "data": {
      "image/png": "[encoded data removed]",
      "text/plain": [
       "<matplotlib.figure.Figure at 0x7f2d2faed198>"
      ]
     },
     "metadata": {},
     "output_type": "display_data"
    }
   ],
   "source": [
    "train_data.reset()\n",
    "test_data.reset()\n",
    "valid_data.reset()\n",
    "\n",
    "# Initialise the weights and biases:\n",
    "weights_init = GlorotUniformInit(rng=rng)\n",
    "biases_init = ConstantInit(0.)\n",
    "\n",
    "input_layer = [\n",
    "    AffineLayer(input_dim, hidden_dim, weights_init, biases_init)\n",
    "]\n",
    "output_layer = [\n",
    "    func,\n",
    "    AffineLayer(hidden_dim, output_dim, weights_init, biases_init)\n",
    "]\n",
    "each_hidden_layer = [\n",
    "    func,\n",
    "    AffineLayer(hidden_dim, hidden_dim, weights_init, biases_init)\n",
    "]\n",
    "\n",
    "# create the MLP:\n",
    "model = MultipleLayerModel(input_layer + each_hidden_layer * i +\n",
    "                           output_layer)\n",
    "print(model, '{} layers'.format(i + 1))\n",
    "\n",
    "error = CrossEntropyLogSoftmaxError()\n",
    "learning_rule = GradientDescentLearningRule(learning_rate=learning_rate)\n",
    "\n",
    "expt['SGD'] = train_model_and_plot_stats(\n",
    "    model,\n",
    "    error,\n",
    "    learning_rule,\n",
    "    train_data,\n",
    "    valid_data,\n",
    "    test_data,\n",
    "    num_epochs,\n",
    "    stats_interval,\n",
    "    notebook=False)"
   ]
  }
 ],
 "metadata": {
  "kernelspec": {
   "display_name": "Python 3",
   "language": "python",
   "name": "python3"
  },
  "language_info": {
   "codemirror_mode": {
    "name": "ipython",
    "version": 3
   },
   "file_extension": ".py",
   "mimetype": "text/x-python",
   "name": "python",
   "nbconvert_exporter": "python",
   "pygments_lexer": "ipython3",
   "version": "3.6.3"
  },
  "toc": {
   "nav_menu": {},
   "number_sections": false,
   "sideBar": true,
   "skip_h1_title": false,
   "toc_cell": false,
   "toc_position": {
    "height": "759px",
    "left": "0px",
    "right": "1435.76px",
    "top": "89px",
    "width": "213px"
   },
   "toc_section_display": "block",
   "toc_window_display": false
  },
  "varInspector": {
   "cols": {
    "lenName": 16,
    "lenType": 16,
    "lenVar": 40
   },
   "kernels_config": {
    "python": {
     "delete_cmd_postfix": "",
     "delete_cmd_prefix": "del ",
     "library": "var_list.py",
     "varRefreshCmd": "print(var_dic_list())"
    },
    "r": {
     "delete_cmd_postfix": ") ",
     "delete_cmd_prefix": "rm(",
     "library": "var_list.r",
     "varRefreshCmd": "cat(var_dic_list()) "
    }
   },
   "types_to_exclude": [
    "module",
    "function",
    "builtin_function_or_method",
    "instance",
    "_Feature"
   ],
   "window_display": false
  }
 },
 "nbformat": 4,
 "nbformat_minor": 2
}

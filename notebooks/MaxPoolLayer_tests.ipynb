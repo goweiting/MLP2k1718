{
 "cells": [
  {
   "cell_type": "markdown",
   "metadata": {},
   "source": [
    "`MaxPoolLayer` Test"
   ]
  },
  {
   "cell_type": "code",
   "execution_count": 2,
   "metadata": {
    "ExecuteTime": {
     "end_time": "2017-11-26T09:39:40.598138Z",
     "start_time": "2017-11-26T09:39:40.592812Z"
    }
   },
   "outputs": [
    {
     "name": "stdout",
     "output_type": "stream",
     "text": [
      "The autoreload extension is already loaded. To reload it, use:\n",
      "  %reload_ext autoreload\n"
     ]
    }
   ],
   "source": [
    "%load_ext autoreload\n",
    "%autoreload 2"
   ]
  },
  {
   "cell_type": "code",
   "execution_count": 3,
   "metadata": {
    "ExecuteTime": {
     "end_time": "2017-11-26T09:39:41.475878Z",
     "start_time": "2017-11-26T09:39:41.360135Z"
    },
    "collapsed": true
   },
   "outputs": [],
   "source": [
    "import numpy as np\n",
    "\n",
    "\n",
    "def test_maxpool_fprop(layer_class):\n",
    "    inputs = np.arange(96).reshape((2, 3, 4, 4))\n",
    "    extent = 2\n",
    "    true_output = np.array([[[[5., 7.], [13., 15.]], [[21., 23.], [29., 31.]],\n",
    "                             [[37., 39.], [45., 47.]]],\n",
    "                            [[[53., 55.], [61., 63.]],\n",
    "                             [[69., 71.], [77., 79.]], [[85., 87.], [93.,\n",
    "                                                                     95.]]]])\n",
    "\n",
    "    layer = layer_class(\n",
    "        num_input_channels=3,\n",
    "        input_dim_1=inputs.shape[2],\n",
    "        input_dim_2=inputs.shape[3],\n",
    "        extent=extent)\n",
    "    layer_output = layer.fprop(inputs)\n",
    "    assert layer_output.shape == true_output.shape, (\n",
    "        'Layer fprop gives incorrect shaped output. '\n",
    "        'Correct shape is \\n\\n{0}\\n\\n but returned shape is \\n\\n{1}.'.format(\n",
    "            true_output.shape, layer_output.shape))\n",
    "    assert np.allclose(layer_output, true_output), (\n",
    "        'Layer fprop does not give correct output. '\n",
    "        'Correct output is \\n\\n{0}\\n\\n but returned output is \\n\\n{1}\\n\\n difference is \\n\\n{2}.'\n",
    "        .format(true_output, layer_output, true_output - layer_output))\n",
    "    return True"
   ]
  },
  {
   "cell_type": "code",
   "execution_count": 4,
   "metadata": {
    "ExecuteTime": {
     "end_time": "2017-11-26T09:39:41.916883Z",
     "start_time": "2017-11-26T09:39:41.849154Z"
    },
    "code_folding": [],
    "collapsed": true
   },
   "outputs": [],
   "source": [
    "def test_maxpool_bprop(layer_class):\n",
    "    inputs = np.arange(2 * 3 * 4 * 4).reshape((2, 3, 4, 4))\n",
    "    grads_wrt_outputs = np.arange(-11, 13).reshape((2, 3, 2, 2))\n",
    "    true_grads_wrt_inputs = np.array(\n",
    "        [[[[0, 0, 0, 0], [0, -11, 0, -10], [0, 0, 0, 0], [0, -9, 0, -8]],\n",
    "          [[0, 0, 0, 0], [0, -7, 0, -6], [0, 0, 0, 0], [0, -5, 0, -4]],\n",
    "          [[0, 0, 0, 0], [0, -3, 0, -2], [0, 0, 0, 0], [0, -1, 0, 0]]],\n",
    "         [[[0, 0, 0, 0], [0, 1, 0, 2], [0, 0, 0, 0], [0, 3, 0, 4]],\n",
    "          [[0, 0, 0, 0], [0, 5, 0, 6], [0, 0, 0, 0], [0, 7, 0, 8]],\n",
    "          [[0, 0, 0, 0], [0, 9, 0, 10], [0, 0, 0, 0], [0, 11, 0, 12]]]])\n",
    "    layer = layer_class(\n",
    "        num_input_channels=3,\n",
    "        input_dim_1=inputs.shape[2],\n",
    "        input_dim_2=inputs.shape[3],\n",
    "        extent=2)\n",
    "    layer_output = layer.fprop(inputs)\n",
    "    layer_grads_wrt_inputs = layer.bprop(inputs, layer_output, grads_wrt_outputs)\n",
    "    assert layer_grads_wrt_inputs.shape == true_grads_wrt_inputs.shape, (\n",
    "        'Layer bprop returns incorrect shaped array. '\n",
    "        'Correct shape is \\n\\n{0}\\n\\n but returned shape is \\n\\n{1}.'.format(\n",
    "            true_grads_wrt_inputs.shape, layer_grads_wrt_inputs.shape))\n",
    "    assert np.allclose(layer_grads_wrt_inputs, true_grads_wrt_inputs), (\n",
    "        'Layer bprop does not return correct values. '\n",
    "        'Correct output is \\n\\n{0}\\n\\n but returned output is \\n\\n{1}\\n\\n difference is \\n\\n{2}'\n",
    "        .format(true_grads_wrt_inputs, layer_grads_wrt_inputs,\n",
    "                layer_grads_wrt_inputs - true_grads_wrt_inputs))\n",
    "    return True"
   ]
  },
  {
   "cell_type": "markdown",
   "metadata": {},
   "source": [
    "An example of using the test functions if given in the cell below. This assumes you implement a convolution (rather than cross-correlation) operation. If the implementation is correct "
   ]
  },
  {
   "cell_type": "code",
   "execution_count": null,
   "metadata": {
    "collapsed": true
   },
   "outputs": [],
   "source": [
    "from mlp.layers import MaxPoolingLayer\n",
    "fprop_correct = test_maxpool_fprop(MaxPoolingLayer)\n",
    "bprop_correct = test_maxpool_bprop(MaxPoolingLayer)\n",
    "if fprop_correct and bprop_correct:\n",
    "    print('All tests passed.')"
   ]
  },
  {
   "cell_type": "code",
   "execution_count": 18,
   "metadata": {
    "ExecuteTime": {
     "end_time": "2017-11-26T09:54:03.109987Z",
     "start_time": "2017-11-26T09:53:58.764258Z"
    },
    "scrolled": true
   },
   "outputs": [
    {
     "name": "stdout",
     "output_type": "stream",
     "text": [
      "206 µs ± 7.81 µs per loop (mean ± std. dev. of 7 runs, 1000 loops each)\n",
      "319 µs ± 4.84 µs per loop (mean ± std. dev. of 7 runs, 1000 loops each)\n"
     ]
    }
   ],
   "source": [
    "from mlp.layers import MaxPoolingLayer\n",
    "%timeit fprop_correct = test_maxpool_fprop(MaxPoolingLayer)\n",
    "%timeit bprop_correct = test_maxpool_bprop(MaxPoolingLayer)"
   ]
  },
  {
   "cell_type": "code",
   "execution_count": 14,
   "metadata": {
    "ExecuteTime": {
     "end_time": "2017-11-26T09:46:09.989537Z",
     "start_time": "2017-11-26T09:46:03.700280Z"
    },
    "scrolled": false
   },
   "outputs": [
    {
     "name": "stdout",
     "output_type": "stream",
     "text": [
      "61.7 µs ± 4.11 µs per loop (mean ± std. dev. of 7 runs, 10000 loops each)\n",
      "195 µs ± 50.3 µs per loop (mean ± std. dev. of 7 runs, 1 loop each)\n"
     ]
    }
   ],
   "source": [
    "from mlp.layers import MaxPoolingLayer_NUMBA\n",
    "%timeit fprop_correct = test_maxpool_fprop(MaxPoolingLayer_NUMBA)\n",
    "%timeit  bprop_correct = test_maxpool_bprop(MaxPoolingLayer_NUMBA)"
   ]
  },
  {
   "cell_type": "code",
   "execution_count": 16,
   "metadata": {
    "ExecuteTime": {
     "end_time": "2017-11-26T09:53:15.573629Z",
     "start_time": "2017-11-26T09:53:03.936700Z"
    }
   },
   "outputs": [
    {
     "name": "stdout",
     "output_type": "stream",
     "text": [
      "56.9 µs ± 1.31 µs per loop (mean ± std. dev. of 7 runs, 10000 loops each)\n",
      "85.9 µs ± 1.49 µs per loop (mean ± std. dev. of 7 runs, 10000 loops each)\n"
     ]
    }
   ],
   "source": [
    "from mlp.layers import MaxPoolingLayer_NUMBA\n",
    "%timeit fprop_correct = test_maxpool_fprop(MaxPoolingLayer_NUMBA)\n",
    "%timeit bprop_correct = test_maxpool_bprop(MaxPoolingLayer_NUMBA)"
   ]
  },
  {
   "cell_type": "code",
   "execution_count": null,
   "metadata": {
    "collapsed": true
   },
   "outputs": [],
   "source": []
  }
 ],
 "metadata": {
  "anaconda-cloud": {},
  "kernelspec": {
   "display_name": "Python 3",
   "language": "python",
   "name": "python3"
  },
  "language_info": {
   "codemirror_mode": {
    "name": "ipython",
    "version": 3
   },
   "file_extension": ".py",
   "mimetype": "text/x-python",
   "name": "python",
   "nbconvert_exporter": "python",
   "pygments_lexer": "ipython3",
   "version": "3.6.3"
  },
  "toc": {
   "nav_menu": {},
   "number_sections": true,
   "sideBar": true,
   "skip_h1_title": false,
   "toc_cell": false,
   "toc_position": {},
   "toc_section_display": "block",
   "toc_window_display": false
  },
  "varInspector": {
   "cols": {
    "lenName": 16,
    "lenType": 16,
    "lenVar": 40
   },
   "kernels_config": {
    "python": {
     "delete_cmd_postfix": "",
     "delete_cmd_prefix": "del ",
     "library": "var_list.py",
     "varRefreshCmd": "print(var_dic_list())"
    },
    "r": {
     "delete_cmd_postfix": ") ",
     "delete_cmd_prefix": "rm(",
     "library": "var_list.r",
     "varRefreshCmd": "cat(var_dic_list()) "
    }
   },
   "types_to_exclude": [
    "module",
    "function",
    "builtin_function_or_method",
    "instance",
    "_Feature"
   ],
   "window_display": false
  }
 },
 "nbformat": 4,
 "nbformat_minor": 1
}

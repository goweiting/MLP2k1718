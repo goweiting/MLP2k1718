{
 "cells": [
  {
   "cell_type": "markdown",
   "metadata": {},
   "source": [
    "## PART A: 2,3 - RMSProp and Adam\n",
    "\n",
    "This notebook was primarily used for creating and testing of variations of Gradient Descent Learning Rule - RMSProp[1] and Adam[2].\n",
    "\n",
    "As noted in previous experiments, large number of deep layers results in large disturbances in convergence.\n",
    "\n",
    "\n",
    "[1] T. Tieleman and G. E. Hinton. Lecture 6.5-rmsprop: Divide the gradient by a running average of its recent\n",
    "magnitude. COURSERA: Neural Networks for Machine Learning, 4(2), 2012. URL https://www.cs.toronto.edu/~tijmen/csc321/slides/lecture_slides_lec6.pdf.\n",
    "\n",
    "[2] Diederik P. Kingma and Jimmy Ba. Adam: A method for stochastic optimization. In ICML, 2015. URL\n",
    "https://arxiv.org/abs/1412.6980.\n"
   ]
  },
  {
   "cell_type": "markdown",
   "metadata": {
    "ExecuteTime": {
     "end_time": "2017-11-12T11:12:05.367872Z",
     "start_time": "2017-11-12T11:12:05.345508Z"
    }
   },
   "source": [
    "### Setup"
   ]
  },
  {
   "cell_type": "code",
   "execution_count": 2,
   "metadata": {
    "ExecuteTime": {
     "end_time": "2017-11-12T11:05:05.369965Z",
     "start_time": "2017-11-12T11:05:05.331682Z"
    },
    "collapsed": true,
    "deletable": false,
    "editable": false,
    "run_control": {
     "frozen": true
    }
   },
   "outputs": [],
   "source": [
    "%load_ext autoreload\n",
    "%autoreload 2\n",
    "from __future__ import print_function"
   ]
  },
  {
   "cell_type": "code",
   "execution_count": 4,
   "metadata": {
    "ExecuteTime": {
     "end_time": "2017-11-12T11:07:13.642824Z",
     "start_time": "2017-11-12T11:07:13.621728Z"
    },
    "collapsed": true,
    "deletable": false,
    "editable": false,
    "run_control": {
     "frozen": true
    }
   },
   "outputs": [],
   "source": [
    "from mlp.learning_rules import *\n",
    "%aimport mlp.learning_rules # enable autoreloading"
   ]
  },
  {
   "cell_type": "code",
   "execution_count": 5,
   "metadata": {
    "ExecuteTime": {
     "end_time": "2017-11-12T11:09:40.088622Z",
     "start_time": "2017-11-12T11:09:37.752205Z"
    },
    "deletable": false,
    "editable": false,
    "run_control": {
     "frozen": true
    }
   },
   "outputs": [
    {
     "name": "stdout",
     "output_type": "stream",
     "text": [
      "['inputs', 'targets']\n",
      "['inputs', 'targets']\n",
      "['inputs', 'targets']\n"
     ]
    }
   ],
   "source": [
    "import numpy as np\n",
    "import logging\n",
    "from mlp.data_providers import MNISTDataProvider, EMNISTDataProvider\n",
    "\n",
    "# Seed a random number generator\n",
    "seed = 10102016\n",
    "rng = np.random.RandomState(seed)\n",
    "batch_size = 100\n",
    "# Set up a logger object to print info about the training run to stdout\n",
    "logger = logging.getLogger()\n",
    "logger.setLevel(logging.INFO)\n",
    "logger.handlers = [logging.StreamHandler()]\n",
    "\n",
    "# Create data provider objects for the MNIST data set\n",
    "train_data = EMNISTDataProvider('train', batch_size=batch_size, rng=rng)\n",
    "valid_data = EMNISTDataProvider('valid', batch_size=batch_size, rng=rng)\n",
    "test_data = EMNISTDataProvider('test', batch_size=batch_size, rng=rng)"
   ]
  },
  {
   "cell_type": "code",
   "execution_count": 12,
   "metadata": {
    "ExecuteTime": {
     "end_time": "2017-11-12T12:02:19.718796Z",
     "start_time": "2017-11-12T12:02:19.683207Z"
    },
    "collapsed": true,
    "deletable": false,
    "editable": false,
    "run_control": {
     "frozen": true
    }
   },
   "outputs": [],
   "source": [
    "from mlp.layers import AffineLayer, SoftmaxLayer, ELULayer\n",
    "from mlp.errors import CrossEntropySoftmaxError\n",
    "from mlp.models import MultipleLayerModel\n",
    "from mlp.initialisers import ConstantInit, GlorotUniformInit\n",
    "from mlp.learning_rules import GradientDescentLearningRule\n",
    "from mlp.optimisers import Optimiser\n",
    "\n",
    "#setup hyperparameters\n",
    "learning_rate = 0.1\n",
    "num_epochs = 50 # TODO: CHANGED HERE FOR TESTING ONLY!\n",
    "stats_interval = 1\n",
    "input_dim, output_dim, hidden_dim = 784, 47, 100"
   ]
  },
  {
   "cell_type": "code",
   "execution_count": 7,
   "metadata": {
    "ExecuteTime": {
     "end_time": "2017-11-12T11:10:43.412857Z",
     "start_time": "2017-11-12T11:10:41.947085Z"
    },
    "code_folding": [
     0
    ],
    "collapsed": true,
    "deletable": false,
    "editable": false,
    "run_control": {
     "frozen": true
    }
   },
   "outputs": [],
   "source": [
    "# Create a single function to test a simple MLP with RELULayer:\n",
    "import matplotlib.pyplot as plt\n",
    "%matplotlib inline\n",
    "plt.style.use('ggplot')\n",
    "\n",
    "def train_model_and_plot_stats(model,\n",
    "                               error,\n",
    "                               learning_rule,\n",
    "                               train_data,\n",
    "                               valid_data,\n",
    "                               test_data,\n",
    "                               num_epochs,\n",
    "                               stats_interval,\n",
    "                               notebook=True):\n",
    "\n",
    "    # As well as monitoring the error over training also monitor classification\n",
    "    # accuracy i.e. proportion of most-probable predicted classes being equal to targets\n",
    "    data_monitors = {'acc': lambda y, t: (y.argmax(-1) == t.argmax(-1)).mean()}\n",
    "\n",
    "    # Use the created objects to initialise a new Optimiser instance.\n",
    "    optimiser = Optimiser(\n",
    "        model,\n",
    "        error,\n",
    "        learning_rule,\n",
    "        train_data,\n",
    "        valid_data,\n",
    "        test_data,\n",
    "        data_monitors,\n",
    "        notebook=notebook)\n",
    "\n",
    "    # Run the optimiser for 5 epochs (full passes through the training set)\n",
    "    # printing statistics every epoch.\n",
    "    stats, keys, run_time = optimiser.train(\n",
    "        num_epochs=num_epochs, stats_interval=stats_interval)\n",
    "\n",
    "    # Plot the change in the validation and training set error over training.\n",
    "    fig_1 = plt.figure(figsize=(8, 4))\n",
    "    ax_1 = fig_1.add_subplot(111)\n",
    "    for k in ['error(train)', 'error(valid)']:\n",
    "        ax_1.plot(\n",
    "            np.arange(1, stats.shape[0]) * stats_interval,\n",
    "            stats[1:, keys[k]],\n",
    "            label=k)\n",
    "    ax_1.legend(loc=0)\n",
    "    ax_1.set_xlabel('Epoch number')\n",
    "\n",
    "    # Plot the change in the validation and training set accuracy over training.\n",
    "    fig_2 = plt.figure(figsize=(8, 4))\n",
    "    ax_2 = fig_2.add_subplot(111)\n",
    "    for k in ['acc(train)', 'acc(valid)']:\n",
    "        ax_2.plot(\n",
    "            np.arange(1, stats.shape[0]) * stats_interval,\n",
    "            stats[1:, keys[k]],\n",
    "            label=k)\n",
    "    ax_2.legend(loc=0)\n",
    "    ax_2.set_xlabel('Epoch number')\n",
    "\n",
    "    return stats, keys, run_time, fig_1, ax_1, fig_2, ax_2"
   ]
  },
  {
   "cell_type": "markdown",
   "metadata": {},
   "source": [
    "### Baseline\n",
    "\n",
    "Run an experiment using SGD learning rule for deep hidden layer (say 10)"
   ]
  },
  {
   "cell_type": "code",
   "execution_count": 13,
   "metadata": {
    "ExecuteTime": {
     "end_time": "2017-11-12T12:02:46.715597Z",
     "start_time": "2017-11-12T12:02:46.690744Z"
    },
    "collapsed": true,
    "deletable": false,
    "editable": false,
    "run_control": {
     "frozen": true
    }
   },
   "outputs": [],
   "source": [
    "expt = {} # store all the experiments\n",
    "func = ELULayer()\n",
    "i = 9 # 10 layers"
   ]
  },
  {
   "cell_type": "code",
   "execution_count": null,
   "metadata": {
    "ExecuteTime": {
     "start_time": "2017-11-12T12:12:01.019Z"
    },
    "scrolled": true
   },
   "outputs": [
    {
     "name": "stdout",
     "output_type": "stream",
     "text": [
      "MultiLayerModel(\n",
      "    AffineLayer(input_dim=784, output_dim=100)\n",
      "    ELULayer\n",
      "    AffineLayer(input_dim=100, output_dim=100)\n",
      "    ELULayer\n",
      "    AffineLayer(input_dim=100, output_dim=100)\n",
      "    ELULayer\n",
      "    AffineLayer(input_dim=100, output_dim=100)\n",
      "    ELULayer\n",
      "    AffineLayer(input_dim=100, output_dim=100)\n",
      "    ELULayer\n",
      "    AffineLayer(input_dim=100, output_dim=100)\n",
      "    ELULayer\n",
      "    AffineLayer(input_dim=100, output_dim=100)\n",
      "    ELULayer\n",
      "    AffineLayer(input_dim=100, output_dim=100)\n",
      "    ELULayer\n",
      "    AffineLayer(input_dim=100, output_dim=100)\n",
      "    ELULayer\n",
      "    AffineLayer(input_dim=100, output_dim=100)\n",
      "    ELULayer\n",
      "    AffineLayer(input_dim=100, output_dim=47)\n",
      ") 10 layers\n"
     ]
    },
    {
     "name": "stderr",
     "output_type": "stream",
     "text": [
      "Epoch 1: 13.8s to complete\n",
      "    error(train)=8.58e-01, acc(train)=7.30e-01, error(valid)=8.85e-01, acc(valid)=7.24e-01, error(test)=9.09e-01, acc(test)=7.13e-01\n",
      "Epoch 2: 14.5s to complete\n",
      "    error(train)=7.65e-01, acc(train)=7.46e-01, error(valid)=8.04e-01, acc(valid)=7.32e-01, error(test)=8.29e-01, acc(test)=7.30e-01\n",
      "Epoch 3: 13.7s to complete\n",
      "    error(train)=6.49e-01, acc(train)=7.80e-01, error(valid)=7.06e-01, acc(valid)=7.69e-01, error(test)=7.32e-01, acc(test)=7.56e-01\n",
      "Epoch 4: 13.7s to complete\n",
      "    error(train)=6.20e-01, acc(train)=7.90e-01, error(valid)=6.94e-01, acc(valid)=7.71e-01, error(test)=7.15e-01, acc(test)=7.66e-01\n",
      "Epoch 5: 13.6s to complete\n",
      "    error(train)=5.47e-01, acc(train)=8.18e-01, error(valid)=6.24e-01, acc(valid)=7.97e-01, error(test)=6.50e-01, acc(test)=7.90e-01\n",
      "Epoch 6: 13.5s to complete\n",
      "    error(train)=5.63e-01, acc(train)=8.08e-01, error(valid)=6.43e-01, acc(valid)=7.88e-01, error(test)=6.72e-01, acc(test)=7.81e-01\n",
      "Epoch 7: 13.5s to complete\n",
      "    error(train)=5.24e-01, acc(train)=8.21e-01, error(valid)=6.16e-01, acc(valid)=8.00e-01, error(test)=6.39e-01, acc(test)=7.92e-01\n",
      "Epoch 8: 13.5s to complete\n",
      "    error(train)=5.00e-01, acc(train)=8.29e-01, error(valid)=5.92e-01, acc(valid)=8.11e-01, error(test)=6.30e-01, acc(test)=7.97e-01\n",
      "Epoch 9: 13.5s to complete\n",
      "    error(train)=4.94e-01, acc(train)=8.26e-01, error(valid)=6.06e-01, acc(valid)=8.01e-01, error(test)=6.25e-01, acc(test)=7.94e-01\n",
      "Epoch 10: 13.6s to complete\n",
      "    error(train)=4.81e-01, acc(train)=8.32e-01, error(valid)=5.90e-01, acc(valid)=8.11e-01, error(test)=6.17e-01, acc(test)=8.01e-01\n",
      "Epoch 11: 13.6s to complete\n",
      "    error(train)=5.06e-01, acc(train)=8.20e-01, error(valid)=6.22e-01, acc(valid)=7.96e-01, error(test)=6.53e-01, acc(test)=7.86e-01\n",
      "Epoch 12: 13.5s to complete\n",
      "    error(train)=4.51e-01, acc(train)=8.42e-01, error(valid)=5.78e-01, acc(valid)=8.11e-01, error(test)=5.94e-01, acc(test)=8.04e-01\n",
      "Epoch 13: 14.2s to complete\n",
      "    error(train)=4.54e-01, acc(train)=8.39e-01, error(valid)=5.89e-01, acc(valid)=8.09e-01, error(test)=6.09e-01, acc(test)=8.01e-01\n",
      "Epoch 14: 13.4s to complete\n",
      "    error(train)=4.48e-01, acc(train)=8.43e-01, error(valid)=5.84e-01, acc(valid)=8.10e-01, error(test)=6.02e-01, acc(test)=8.04e-01\n",
      "Epoch 15: 13.5s to complete\n",
      "    error(train)=4.75e-01, acc(train)=8.34e-01, error(valid)=6.09e-01, acc(valid)=8.08e-01, error(test)=6.37e-01, acc(test)=7.94e-01\n",
      "Epoch 16: 13.4s to complete\n",
      "    error(train)=4.39e-01, acc(train)=8.46e-01, error(valid)=5.84e-01, acc(valid)=8.15e-01, error(test)=6.03e-01, acc(test)=8.04e-01\n"
     ]
    }
   ],
   "source": [
    "train_data.reset()\n",
    "test_data.reset()\n",
    "valid_data.reset()\n",
    "\n",
    "# Initialise the weights and biases:\n",
    "weights_init = GlorotUniformInit(rng=rng)\n",
    "biases_init = ConstantInit(0.)\n",
    "\n",
    "input_layer = [\n",
    "    AffineLayer(input_dim, hidden_dim, weights_init, biases_init)\n",
    "]\n",
    "output_layer = [\n",
    "    func,\n",
    "    AffineLayer(hidden_dim, output_dim, weights_init, biases_init)\n",
    "]\n",
    "each_hidden_layer = [\n",
    "    func,\n",
    "    AffineLayer(hidden_dim, hidden_dim, weights_init, biases_init)\n",
    "]\n",
    "\n",
    "# create the MLP:\n",
    "model = MultipleLayerModel(input_layer + each_hidden_layer * i +\n",
    "                           output_layer)\n",
    "print(model, '{} layers'.format(i + 1))\n",
    "\n",
    "error = CrossEntropySoftmaxError()\n",
    "learning_rule = GradientDescentLearningRule(learning_rate=learning_rate)\n",
    "\n",
    "expt['SGD'] = train_model_and_plot_stats(\n",
    "    model,\n",
    "    error,\n",
    "    learning_rule,\n",
    "    train_data,\n",
    "    valid_data,\n",
    "    test_data,\n",
    "    num_epochs,\n",
    "    stats_interval,\n",
    "    notebook=False)"
   ]
  },
  {
   "cell_type": "markdown",
   "metadata": {},
   "source": [
    "### Momentum SGD\n",
    "\n",
    "Repeat the experiment with momentum SGD:"
   ]
  },
  {
   "cell_type": "code",
   "execution_count": null,
   "metadata": {
    "ExecuteTime": {
     "start_time": "2017-11-12T12:12:01.285Z"
    },
    "collapsed": true
   },
   "outputs": [],
   "source": [
    "train_data.reset()\n",
    "test_data.reset()\n",
    "valid_data.reset()\n",
    "\n",
    "learning_rule = MomentumLearningRule(learning_rate=0.02, mom_coeff=.9)\n",
    "\n",
    "expt['MomentumSGD'] = train_model_and_plot_stats(\n",
    "    model,\n",
    "    error,\n",
    "    learning_rule,\n",
    "    train_data,\n",
    "    valid_data,\n",
    "    test_data,\n",
    "    num_epochs,\n",
    "    stats_interval,\n",
    "    notebook=False)"
   ]
  },
  {
   "cell_type": "markdown",
   "metadata": {
    "ExecuteTime": {
     "end_time": "2017-11-12T11:04:15.439570Z",
     "start_time": "2017-11-12T11:04:15.057907Z"
    }
   },
   "source": [
    "### RMSProp"
   ]
  },
  {
   "cell_type": "code",
   "execution_count": null,
   "metadata": {
    "collapsed": true
   },
   "outputs": [],
   "source": [
    "train_data.reset()\n",
    "test_data.reset()\n",
    "valid_data.reset()\n",
    "\n",
    "learning_rule = RMSPropLearningRule(learning_rate=1e-3, beta=0.9, epsilon=1e-8)\n",
    "\n",
    "expt['RMSProp'] = train_model_and_plot_stats(\n",
    "    model,\n",
    "    error,\n",
    "    learning_rule,\n",
    "    train_data,\n",
    "    valid_data,\n",
    "    test_data,\n",
    "    num_epochs,\n",
    "    stats_interval,\n",
    "    notebook=False)"
   ]
  },
  {
   "cell_type": "markdown",
   "metadata": {},
   "source": [
    "### Adam"
   ]
  },
  {
   "cell_type": "code",
   "execution_count": null,
   "metadata": {
    "collapsed": true
   },
   "outputs": [],
   "source": [
    "train_data.reset()\n",
    "test_data.reset()\n",
    "valid_data.reset()\n",
    "\n",
    "learning_rule = AdamLearningRule(learning_rate=1e-3, beta_1=0.9, beta_2=0.999,\n",
    "                 epsilon=1e-8)\n",
    "\n",
    "expt['adam'] = train_model_and_plot_stats(\n",
    "    model,\n",
    "    error,\n",
    "    learning_rule,\n",
    "    train_data,\n",
    "    valid_data,\n",
    "    test_data,\n",
    "    num_epochs,\n",
    "    stats_interval,\n",
    "    notebook=False)"
   ]
  }
 ],
 "metadata": {
  "kernelspec": {
   "display_name": "Python 3",
   "language": "python",
   "name": "python3"
  },
  "language_info": {
   "codemirror_mode": {
    "name": "ipython",
    "version": 3
   },
   "file_extension": ".py",
   "mimetype": "text/x-python",
   "name": "python",
   "nbconvert_exporter": "python",
   "pygments_lexer": "ipython3",
   "version": "3.6.3"
  },
  "toc": {
   "nav_menu": {},
   "number_sections": false,
   "sideBar": true,
   "skip_h1_title": false,
   "toc_cell": false,
   "toc_position": {},
   "toc_section_display": "block",
   "toc_window_display": true
  },
  "varInspector": {
   "cols": {
    "lenName": 16,
    "lenType": 16,
    "lenVar": 40
   },
   "kernels_config": {
    "python": {
     "delete_cmd_postfix": "",
     "delete_cmd_prefix": "del ",
     "library": "var_list.py",
     "varRefreshCmd": "print(var_dic_list())"
    },
    "r": {
     "delete_cmd_postfix": ") ",
     "delete_cmd_prefix": "rm(",
     "library": "var_list.r",
     "varRefreshCmd": "cat(var_dic_list()) "
    }
   },
   "types_to_exclude": [
    "module",
    "function",
    "builtin_function_or_method",
    "instance",
    "_Feature"
   ],
   "window_display": false
  }
 },
 "nbformat": 4,
 "nbformat_minor": 2
}
